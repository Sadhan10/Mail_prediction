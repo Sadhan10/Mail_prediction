{
  "nbformat": 4,
  "nbformat_minor": 0,
  "metadata": {
    "colab": {
      "name": "Spam Mail Prediction",
      "provenance": [],
      "collapsed_sections": []
    },
    "kernelspec": {
      "name": "python3",
      "display_name": "Python 3"
    },
    "language_info": {
      "name": "python"
    }
  },
  "cells": [
    {
      "cell_type": "code",
      "source": [
        "import numpy as np\n",
        "import pandas as pd\n",
        "from sklearn.model_selection import train_test_split\n",
        "from sklearn.linear_model import LogisticRegression\n",
        "from sklearn.metrics import accuracy_score\n",
        "from sklearn.feature_extraction.text import TfidfVectorizer"
      ],
      "metadata": {
        "id": "nk5yRzNi2pfO"
      },
      "execution_count": null,
      "outputs": []
    },
    {
      "cell_type": "code",
      "source": [
        "##Data Collection and Preprocessing"
      ],
      "metadata": {
        "id": "XE3AafxQHUcL"
      },
      "execution_count": null,
      "outputs": []
    },
    {
      "cell_type": "code",
      "source": [
        "#loading Data from csv to a pandas Dataframe\n",
        "raw_mail_data = pd.read_csv('/content/mail_data.csv')\n",
        "print(raw_mail_data)"
      ],
      "metadata": {
        "id": "oQmbCWIA7EyT"
      },
      "execution_count": null,
      "outputs": []
    },
    {
      "cell_type": "code",
      "source": [
        "#replace null vaues with a null string\n",
        "mail_data = raw_mail_data.where(pd.notnull(raw_mail_data),'')"
      ],
      "metadata": {
        "id": "gUXnldCN7Z6y"
      },
      "execution_count": null,
      "outputs": []
    },
    {
      "cell_type": "code",
      "source": [
        "mail_data.head()"
      ],
      "metadata": {
        "id": "caBERVkw74XR"
      },
      "execution_count": null,
      "outputs": []
    },
    {
      "cell_type": "code",
      "source": [
        "#checking the number of rows and columns in the dataframe\n",
        "mail_data.shape"
      ],
      "metadata": {
        "id": "zwGbytIB8Afv"
      },
      "execution_count": null,
      "outputs": []
    },
    {
      "cell_type": "markdown",
      "source": [
        "Label Encoding"
      ],
      "metadata": {
        "id": "LnEtHZIl8ksq"
      }
    },
    {
      "cell_type": "code",
      "source": [
        "#label spam mail as 0 and ham mail as 1\n",
        "\n",
        "mail_data.loc[mail_data['Category']=='spam','Category'] = 0\n",
        "mail_data.loc[mail_data['Category']=='ham','Category'] = 1"
      ],
      "metadata": {
        "id": "c8aW_2kp8QL_"
      },
      "execution_count": null,
      "outputs": []
    },
    {
      "cell_type": "markdown",
      "source": [
        "Spam is represented by 0 and Ham is represented by 1"
      ],
      "metadata": {
        "id": "IgwQ-1dM9StC"
      }
    },
    {
      "cell_type": "code",
      "source": [
        "#seperating data as text and labels\n",
        "\n",
        "X = mail_data['Message']\n",
        "Y = mail_data['Category']"
      ],
      "metadata": {
        "id": "aTvcf0Kn9Pgl"
      },
      "execution_count": null,
      "outputs": []
    },
    {
      "cell_type": "code",
      "source": [
        "print(X)"
      ],
      "metadata": {
        "id": "lShJd6gI9y71"
      },
      "execution_count": null,
      "outputs": []
    },
    {
      "cell_type": "code",
      "source": [
        "print(Y)"
      ],
      "metadata": {
        "id": "GiXpEF5S91E_"
      },
      "execution_count": null,
      "outputs": []
    },
    {
      "cell_type": "markdown",
      "source": [
        "Spliting data into training and testing data"
      ],
      "metadata": {
        "id": "AaF6e7bz99RK"
      }
    },
    {
      "cell_type": "code",
      "source": [
        "X_train,X_test,Y_train,Y_test = train_test_split(X,Y,test_size = 0.2,random_state = 3)"
      ],
      "metadata": {
        "id": "zdo6zqGB94Au"
      },
      "execution_count": null,
      "outputs": []
    },
    {
      "cell_type": "code",
      "source": [
        "print(X.shape)\n",
        "print(X_test.shape)\n",
        "print(X_train.shape)"
      ],
      "metadata": {
        "id": "-uan6edL--aG"
      },
      "execution_count": null,
      "outputs": []
    },
    {
      "cell_type": "markdown",
      "source": [
        "Feature Extraction"
      ],
      "metadata": {
        "id": "JNBZ2XWZ_Y_e"
      }
    },
    {
      "cell_type": "code",
      "source": [
        "#transform text data to feature vectors that can be used as input to the logistic regression \n",
        "feature_extraction = TfidfVectorizer(min_df = 1, stop_words='english',lowercase='True')\n",
        "\n",
        "X_train_features = feature_extraction.fit_transform(X_train)\n",
        "X_test_feature = feature_extraction.transform(X_test)\n",
        "\n",
        "\n",
        "#Convert Y train and Y test values as integers\n",
        "Y_train = Y_train.astype('int')\n",
        "Y_test = Y_test.astype('int')"
      ],
      "metadata": {
        "id": "LDqL9gqm_Bre"
      },
      "execution_count": null,
      "outputs": []
    },
    {
      "cell_type": "code",
      "source": [
        "print(X_train_features)\n",
        "print(X_test_feature)"
      ],
      "metadata": {
        "id": "wO7I1bRZCeJo"
      },
      "execution_count": null,
      "outputs": []
    },
    {
      "cell_type": "markdown",
      "source": [
        "Training the Model"
      ],
      "metadata": {
        "id": "QMVV87GnC2fg"
      }
    },
    {
      "cell_type": "markdown",
      "source": [
        "Logistic Regression"
      ],
      "metadata": {
        "id": "RrvnJqpQC5sM"
      }
    },
    {
      "cell_type": "code",
      "source": [
        "model = LogisticRegression()"
      ],
      "metadata": {
        "id": "ges3_pC1ClY7"
      },
      "execution_count": null,
      "outputs": []
    },
    {
      "cell_type": "code",
      "source": [
        "#training the logistic regressionn model with the training data\n",
        "model.fit(X_train_features,Y_train)"
      ],
      "metadata": {
        "id": "kFFMlO-hDBPe"
      },
      "execution_count": null,
      "outputs": []
    },
    {
      "cell_type": "markdown",
      "source": [
        "Evaluating the trained model"
      ],
      "metadata": {
        "id": "9vky1hUVDX4B"
      }
    },
    {
      "cell_type": "code",
      "source": [
        "#prediction n training data\n",
        "prediction_on_training_data = model.predict(X_train_features)\n",
        "accuracy_on_training_data = accuracy_score(Y_train,prediction_on_training_data)\n",
        "train_accuracy = accuracy_on_training_data * 100"
      ],
      "metadata": {
        "id": "AYGZYeI-DF6Q"
      },
      "execution_count": null,
      "outputs": []
    },
    {
      "cell_type": "code",
      "source": [
        "print('Accuracy on training data :',train_accuracy, '%')"
      ],
      "metadata": {
        "id": "d2_rjSTkD4vO"
      },
      "execution_count": null,
      "outputs": []
    },
    {
      "cell_type": "code",
      "source": [
        "#prediction n test data\n",
        "prediction_on_test_data = model.predict(X_test_feature)\n",
        "accuracy_on_test_data = accuracy_score(Y_test,prediction_on_test_data)\n",
        "test_accuracy = accuracy_on_test_data * 100"
      ],
      "metadata": {
        "id": "NB3e0diyEHRh"
      },
      "execution_count": null,
      "outputs": []
    },
    {
      "cell_type": "code",
      "source": [
        " print('Test accuracy: ',test_accuracy)"
      ],
      "metadata": {
        "id": "_9j8lcM_E0t-"
      },
      "execution_count": null,
      "outputs": []
    },
    {
      "cell_type": "markdown",
      "source": [
        "building a predictng system"
      ],
      "metadata": {
        "id": "BLZTbAdFF6BW"
      }
    },
    {
      "cell_type": "code",
      "source": [
        "input_mail =[\"URGENT! You have won a 1 week FREE membership in our Â£100,000 Prize Jackpot! Txt the word: CLAIM to No: 81010 T&C www.dbuk.net LCCLTD POBOX 4403LDNW1A7RW18\"]\n",
        "\n",
        "#convert text to featre vectors\n",
        "input_data_features = feature_extraction.transform(input_mail)\n",
        "\n",
        "#making prediction\n",
        "prediction = model.predict(input_data_features)\n",
        "print(prediction)\n",
        "\n",
        "if prediction[0] ==1:\n",
        "  print('Ham Mail')\n",
        "else:\n",
        "  print(\"Spam Mail\")"
      ],
      "metadata": {
        "id": "X6f8TswoFW7i"
      },
      "execution_count": null,
      "outputs": []
    },
    {
      "cell_type": "code",
      "source": [
        ""
      ],
      "metadata": {
        "id": "rEw8IwTGG_Vu"
      },
      "execution_count": null,
      "outputs": []
    }
  ]
}